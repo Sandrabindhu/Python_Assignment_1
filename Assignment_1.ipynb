'''#Q1:-Exercise 1: Arithmetic Operators:

n1=int(input("Enter the first no."))   #Take input from the use
n2=int(input("Enter the second no."))   #Take input from the use 
add=n1+n2                #Add the given 2 numbers.       
sub=n1-n2                #Substract the given 2 numbers. 
mul=n1*n2                #Multiply the given 2 numbers.
div=n1/n2                #Divide the given 2 numbers.
mod=n1%n2                #Modulus of given 2 numbers.
exp=n1**n2               #Exponentiation of given numbers.
floDiv=n1//n2            #Floor Division of given numbers.
#Display these all results
print("Addition:", add)      
print("Substraction:", sub)
print("Multiplication:", mul)
print("Division:", div)
print("Modulus:", mod)
print("Exponentiation:", exp)
print("Floor Division:", floDiv)


#Q2:-Exercise 2: Comparison Operators:

x=int(input("Enter the Number: "))     #Take input from user
y=int(input("Enter the Number: "))     #Take input from user
if(x>y):    #To check the condition that the first no. is greater than second no.. 
    print("The first no is greater than the second number.")    #display the result
elif(x==y):    #To check the condition that first no. is equal to second no..
    print("The first no is equal to the second.")     #display the result
else:
    print("The first no is less than or equal to the second.")      #display the result


#Q3:-Exercise 3: Logical Operators

x1=bool(int(input("Enter the 1st no.: ")))   #Take input from the user
x2=bool(int(input("Enter the 2nd no.: ")))  #Take input from the user
x3=bool(int(input("Enter the 3rd no.: ")))   #Take input from the user
And= x1 and x2 and x3    #And Operator and result will be true only if all values are true
Or= x1 or x2 or x3       #Or Operator and result will be true if at least one of x1,x2 or x3 is true
Not= not x1              #Not Operator and result will be opposite of the x1
print("And Operator: ", And)    #Display the result
print("Or Operator: ", Or)      #Display the result
print("Not Operator: ", Not)    #Display the result


#Q4:-Part 2: Strings

#    Exercise 4: String Manipulation:-

Str=str(input("Enter the string: "))    #Take the string value from the usres
print(len(Str))      #Display the length of the string
print(Str[0],Str[-1])      #To display the first and last character
print(Str[::-1])      #To display in reverse order
print(Str.upper(),Str.lower())    #To display in Upper case and Lower case


#Q5:-Exercise 5: String Formatting

Name=str(input("Enter your name: "))     #Take a string value from users
Age=int(input("Enter your age: "))       #Take the intiger value from the users
print(f"Hello {Name}, you are {Age} years old.")      #Display the results


#Q6:-Exercise 6: Substring Search

sentence=input("Enter a sentence: ")     #Take from the users
word=input("Enter the word: ")      #Take from the users
if word in sentence:     #To ckeck the condition
    position = sentence.find(word)   #To find the position of the word from the sentence
    print(f"The word {word} exists in the sentence st index {position}.")    #Display the result
else:
    print(f"The  word {word} does not exist in the sentence.")    #Display the result 


#Q7:-Part 3: Lists
#        Exercise 7: List Operations:-

List=[]
for i in range(5):
    num=int(input(f"Enter number{i+1}:"))
    List.append(num)
print("Sum of all no.: ", sum(List))
print("The smallest no is: ", min(List))
print("The largest no.is: ", max(List))



#Q8:-Exercise 8: List Manipulation:-

fav_fru=['Apple','Orange','Mango','Pineapple']
fav_fru.append("Berry")
fav_fru.pop(1)
print("The updated one is :", fav_fru)



#Q9:-Exercise 9: Sorting a List:-

list=[]    #Empty list to store the no. from the users
for i in range(5):   #Loop to take 5 inputs from the user
    x=int(input(f"Enter the no.{i+1}: "))   #Take the 5 inputs from the users
    list.append(x)     #Add the no. entered by the user to the list
a=sorted(list)     #Sort the values in ascending order
print("The list in ascending order: ", a)    #Display the value
a=sorted(list,reverse=True)      #Sort the values in descending order
print("The list in descending order: ", a)   #Display the values
'''

#Q10:-Exercise 10: List Slicing:-

numbers=[1,2,3,4,5,6,7,8,9,10]    #Given list of no.s      
x=numbers[0:5]    #To print frist 5 elements
print("Enter first 5 element: ", x)    #Display the results
y=numbers[-5:]    #To print last 5 elements
print("Enter the last 5 element: ", y)   #Display the results
z=numbers[2:8]   #To print the elements from 2 to 7 index
print("Enter the between 2 no.:",z)   #Display the results


#Q11:-Bonus Challenge:-
#     Exercise 11: Nested List:-

students=[]     #Empty list to store students data
for i in range(3):    #Take input for 3 stdents
    name=input(f"Enter the name of student{i+1}: ")
    #To take the 3 scores for each student
    scores=[]
    for j in range(1,4):
        score=int(input(f"Enter the score of subject{j} for {name}: "))
        scores.append(score)
    #To store name and scores of students in nested list
    students.append([name, scores])
#Calculate and display the name and average score
for student in students:
    name=student[0]
    scores=student[1]
    ave_sco=sum(scores)/len(scores)    #calculate the average score
    print(f"{name}'s average score is: {ave_sco:.2f}")     #Display the result

























